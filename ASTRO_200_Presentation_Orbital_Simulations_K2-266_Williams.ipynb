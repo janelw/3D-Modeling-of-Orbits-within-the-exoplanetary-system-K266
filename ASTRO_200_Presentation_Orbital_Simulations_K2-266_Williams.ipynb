{
 "cells": [
  {
   "cell_type": "code",
   "execution_count": 1,
   "metadata": {},
   "outputs": [
    {
     "data": {
      "text/html": [
       "<div id=\"glowscript\" class=\"glowscript\"></div>"
      ],
      "text/plain": [
       "<IPython.core.display.HTML object>"
      ]
     },
     "metadata": {},
     "output_type": "display_data"
    },
    {
     "data": {
      "application/javascript": [
       "if (typeof Jupyter !== \"undefined\") { window.__context = { glowscript_container: $(\"#glowscript\").removeAttr(\"id\")};}else{ element.textContent = ' ';}"
      ],
      "text/plain": [
       "<IPython.core.display.Javascript object>"
      ]
     },
     "metadata": {},
     "output_type": "display_data"
    }
   ],
   "source": [
    "import numpy as np\n",
    "import astropy\n",
    "import scipy\n",
    "import math \n",
    "import matplotlib.pyplot as plt\n",
    "from scipy import constants\n",
    "from astropy.io import ascii\n",
    "from astropy import cosmology \n",
    "from astropy import units as u \n",
    "from astropy.units import astrophys as astro\n",
    "from vpython import * \n",
    "from vpython import graph "
   ]
  },
  {
   "cell_type": "code",
   "execution_count": 2,
   "metadata": {},
   "outputs": [],
   "source": [
    "#window for the progrom if it's run on a computer \n",
    "scene = display(title = 'Planets  Orbiting K2 - 266', width = 800, \n",
    "                height = 800, range = (25000,25000,25000), center = (1000,0,0)) "
   ]
  },
  {
   "cell_type": "code",
   "execution_count": 3,
   "metadata": {},
   "outputs": [],
   "source": [
    "#getting file from directory \n",
    "filename = 'C://Users/Janel/Documents/ASTRO_200_Python/K2-266.txt'\n",
    "\n",
    "#reading data from the file into an ascii table \n",
    "data = ascii.read(filename)\n",
    "\n",
    "\n",
    "\n",
    "#indexing raw values for mathematical calculation \n",
    "planet_letter= data['pl_letter'] #planet letter \n",
    "#print(planet_letter)\n",
    "P = data['pl_orbper'] #planets orbital period in days \n",
    "#print(P)\n",
    "i_deg = data['pl_orbincl'] #planets inclincation \n",
    "#print(i_deg)\n",
    "pl_massj= data['pl_bmassj'] #planets mass in jupiter units\n",
    "#print(pl_massj)\n",
    "pl_rad= data['pl_radj'] #planet radius in jupiter radii\n",
    "#print(pl_rad)\n",
    "St_dist= data['st_dist'] #distance of star from us in parsecs\n",
    "#print(St_dist)\n",
    "St_M= data['st_mass'] #stellar mass in solar mass \n",
    "#print(St_M)\n",
    "St_R= data['st_rad'] #stellar radius in solar radii\n",
    "#print(St_R)\n",
    "e = data['pl_orbeccen'] #orbital eccentricity \n",
    "#print(e)\n",
    "semi_ax = data['pl_orbsmax'] #semi - major axis of each planet in AU \n",
    "#print(semi_ax)\n",
    "orb_peri = data['pl_orbper']\n",
    "V_star = data['st_rad']\n",
    "#print(orb_peri)"
   ]
  },
  {
   "cell_type": "code",
   "execution_count": 4,
   "metadata": {},
   "outputs": [],
   "source": [
    "#defining constants \n",
    "G = scipy.constants.gravitational_constant *1e-9 #gravitational constant from scipy database #changed from m^3 to kilometers^3\n",
    "#print(G)\n",
    "pi = scipy.constants.pi # pi constant from data bate \n",
    "#print(pi)\n",
    "pi_2 = pi**2 #pi squared \n",
    "#print(pi_2)\n",
    "au_km = (1.496e8) # 1au in kilometers \n",
    "#print(au_km)\n",
    "Mjup_kg= (1.8981872e27) #jupiter masses in kilograms, conversion factor \n",
    "#print(Mjup_kg)\n",
    "Msol_kg = (1.9884754e30) #solar masses in kilograms, conversion factor \n",
    "#print(Msol_kg)\n",
    "Rjup_km = (71492.0) #jupiter radii in kilometers \n",
    "#print(Rjup_km)\n",
    "Rsol_km = (695700.0) #star radii in kilometers \n",
    "#print(Rsol_km)\n",
    "#change from integer to real number "
   ]
  },
  {
   "cell_type": "code",
   "execution_count": 5,
   "metadata": {},
   "outputs": [
    {
     "name": "stdout",
     "output_type": "stream",
     "text": [
      "6.748055496e+25\n",
      "1.7273503520000002e+24\n",
      "5.6148377376e+25\n"
     ]
    }
   ],
   "source": [
    "#indexing raw extracted raw data \n",
    "Mstar = St_M[0] * Msol_kg  #multiplying indexed raw stellar mass data by solar constant \n",
    "#print(Mstar)\n",
    "Rstar = St_R[0]*Rsol_km #indexing Rstar value which is in km \n",
    "#print(Rstar)\n",
    "v_star = V_star[0]\n",
    "Mp = pl_massj*Mjup_kg #multiplying indexed raw planet masses by jupiter masses to get kg \n",
    "#print(Mp)\n",
    "Rp = pl_rad*Rjup_km #multiplying indexed raw planet radii by jupiter radians to get km \n",
    "#print(Rp)\n",
    "ap = semi_ax*au_km #multiplying indexed raw planet obital radius by 1au in km to get the ap from au to km\n",
    "#print(ap)\n",
    "i_rad = (i_deg)*(pi/180)\n",
    "#print(i_rad)\n",
    "Wop = orb_peri\n",
    "\n",
    "#print(Wop)\n",
    "\n",
    "#print(ap)\n",
    "#print(planet_letter)\n",
    "\n",
    "#------------Planet Masses in kg -----------# \n",
    "#bmass = Mp[0:1]\n",
    "bmass = Mp[0]\n",
    "#print(bmass)\n",
    "cmass = Mp[1]\n",
    "#print(cmass)\n",
    "dmass = Mp[2]\n",
    "#print(dmass)\n",
    "emass = Mp[3]\n",
    "#print(emass)\n",
    "\n",
    "print(bmass)\n",
    "print(cmass)\n",
    "print(dmass)\n",
    "#----------Planet Period in days  ----------#\n",
    "P_b = P[0]\n",
    "#print(P_b)\n",
    "P_c = P[1]\n",
    "#print(P_c)\n",
    "P_d = P[2]\n",
    "#print(P_d)\n",
    "P_e = P[3]\n",
    "#print(P_e)\n",
    "\n",
    "\n",
    "#--------Planet Orbital Semimajor axis in km ------#\n",
    "ap_b = ap[0]\n",
    "#print(ap_b)\n",
    "ap_c = ap[1]\n",
    "#print(ap_c)\n",
    "ap_d = ap[2]\n",
    "#print(ap_d)\n",
    "ap_e = ap[3]\n",
    "#print(ap_e)\n",
    "\n",
    "\n",
    "#---------------Planet Radii in km ---------------#\n",
    "\n",
    "Rb = Rp[0]\n",
    "#print(Rb)\n",
    "Rc = Rp[1]\n",
    "#print(Rc)\n",
    "Rd = Rp[2]\n",
    "#print(Rd)\n",
    "Re = Rp[3]\n",
    "#print(Re)\n",
    "\n",
    "\n",
    "#--------------Planet Inclincation in radians -------------#\n",
    "i_b = i_rad[0]\n",
    "#print(i_b)\n",
    "i_c = i_rad[1]\n",
    "#print(i_c)\n",
    "i_d = i_rad[2]\n",
    "#print(i_d)\n",
    "i_e = i_rad[3]\n",
    "#print(i_e)\n",
    "\n",
    "#-------------Planet Orbital Eccentricity ---------------#\n",
    "e_b = .044\n",
    "#print(e_b)\n",
    "e_c = e[1]\n",
    "#print(e_c)\n",
    "e_d = e[2]\n",
    "#print(e_d)\n",
    "e_e = e[3]\n",
    "#print(e_e)\n",
    "\n",
    "#----------Planet Long. Periastrian angle in deg----------------# \n",
    "Wob = 88.00 #abitrarily chosen due to missing values\n",
    "#print(Wob)\n",
    "Woc = Wop[1]\n",
    "Wod = Wop[2]\n",
    "#print(Wod)\n",
    "Woe = Wop[3]\n",
    "#print(Woe)\n",
    "\n",
    "#----------------FORCE on the planets------------------#\n",
    "F_b = (G*(bmass*Mstar))/(ap_b**2)\n",
    "#print(F_b)\n",
    "F_c = (G*(cmass*Mstar))/(ap_c**2)\n",
    "#print(F_c)\n",
    "F_d = (G*(dmass*Mstar))/(ap_d**2)\n",
    "#print(F_d)\n",
    "F_e = (G*(emass*Mstar))/(ap_e**2)\n",
    "#print(F_e)\n",
    "\n",
    "\n",
    "#------------Angular Velocity of the planets, the initial velocity-----------------#\n",
    "wb = math.sqrt(F_b/(bmass*ap_b))\n",
    "wc = math.sqrt(F_c/(cmass*ap_c))\n",
    "wd = math.sqrt(F_d/(dmass*ap_d))\n",
    "we = math.sqrt(F_e/(emass*ap_e))\n",
    "\n",
    "#------------Initial Velocities of the planets-----------------#\n",
    "vb = wb*ap_b\n",
    "vc = wc*ap_c\n",
    "vd = wd*ap_d\n",
    "ve = we*ap_e\n",
    "\n",
    "\n",
    "\n",
    "#print(vb)\n",
    "#print(vc)\n",
    "#print(vd)\n",
    "#print(ve)"
   ]
  },
  {
   "cell_type": "code",
   "execution_count": 6,
   "metadata": {},
   "outputs": [
    {
     "data": {
      "application/javascript": [
       "if (typeof Jupyter !== \"undefined\") {require.undef(\"nbextensions/vpython_libraries/glow.min\");}else{element.textContent = ' ';}"
      ],
      "text/plain": [
       "<IPython.core.display.Javascript object>"
      ]
     },
     "metadata": {},
     "output_type": "display_data"
    },
    {
     "data": {
      "application/javascript": [
       "if (typeof Jupyter !== \"undefined\") {require.undef(\"nbextensions/vpython_libraries/glowcomm\");}else{element.textContent = ' ';}"
      ],
      "text/plain": [
       "<IPython.core.display.Javascript object>"
      ]
     },
     "metadata": {},
     "output_type": "display_data"
    },
    {
     "data": {
      "application/javascript": [
       "if (typeof Jupyter !== \"undefined\") {require.undef(\"nbextensions/vpython_libraries/jquery-ui.custom.min\");}else{element.textContent = ' ';}"
      ],
      "text/plain": [
       "<IPython.core.display.Javascript object>"
      ]
     },
     "metadata": {},
     "output_type": "display_data"
    },
    {
     "data": {
      "application/javascript": [
       "if (typeof Jupyter !== \"undefined\") {require([\"nbextensions/vpython_libraries/glow.min\"], function(){console.log(\"GLOW LOADED\");});}else{element.textContent = ' ';}"
      ],
      "text/plain": [
       "<IPython.core.display.Javascript object>"
      ]
     },
     "metadata": {},
     "output_type": "display_data"
    },
    {
     "data": {
      "application/javascript": [
       "if (typeof Jupyter !== \"undefined\") {require([\"nbextensions/vpython_libraries/glowcomm\"], function(){console.log(\"GLOWCOMM LOADED\");});}else{element.textContent = ' ';}"
      ],
      "text/plain": [
       "<IPython.core.display.Javascript object>"
      ]
     },
     "metadata": {},
     "output_type": "display_data"
    },
    {
     "data": {
      "application/javascript": [
       "if (typeof Jupyter !== \"undefined\") {require([\"nbextensions/vpython_libraries/jquery-ui.custom.min\"], function(){console.log(\"JQUERY LOADED\");});}else{element.textContent = ' ';}"
      ],
      "text/plain": [
       "<IPython.core.display.Javascript object>"
      ]
     },
     "metadata": {},
     "output_type": "display_data"
    }
   ],
   "source": [
    "#this defines the inital position, size, and velocity of the objects \n",
    "\n",
    "rsc = 10\n",
    "\n",
    "star = sphere(pos = vector(0,0,0), radius = Rstar, color = color.red, make_trail = True ) # star's starting position at the origin\n",
    "star.velocity= vector(0,0,0)\n",
    "\n",
    "b = sphere(pos = vector(ap_b,0,0), radius = Rb*rsc, color = color.orange, make_trail = True ) # star's starting position at the origin of the simulation\n",
    "b.velocity = vector(0,vb,0)\n",
    "\n",
    "c = sphere(pos = vector(ap_c,0,0), radius = Rc*rsc, color = color.green, make_trail = True ) # star's starting position at the origin ''\n",
    "c.velocity = vector(0,vc,0)\n",
    "\n",
    "d = sphere(pos = vector(ap_d,0,0), radius = Rd*rsc, color = color.blue, make_trail = True ) # star's starting position at the origin ''\n",
    "d.velocity = vector(0,vd,0)\n",
    "\n",
    "e = sphere(pos = vector(ap_e,0,0), radius = Re*rsc, color = color.purple, make_trail = True ) # star's starting position at the origin ''\n",
    "e.velocity = vector(0,ve,0)\n",
    "\n"
   ]
  },
  {
   "cell_type": "code",
   "execution_count": 7,
   "metadata": {},
   "outputs": [],
   "source": [
    "#---------Initializing Graphics Curve -----------------------# \n",
    "f1 = gcurve(color=color.orange)\t# a graphics curve\n",
    "f2 = gcurve(color = color.green)\n",
    "f3 = gcurve(color = color.blue)\n",
    "f4 = gcurve(color = color.purple)\n",
    "f5 = gcurve(color = color.black)\n",
    "\n",
    "t = 0 \n"
   ]
  },
  {
   "cell_type": "code",
   "execution_count": 8,
   "metadata": {},
   "outputs": [
    {
     "ename": "KeyboardInterrupt",
     "evalue": "",
     "output_type": "error",
     "traceback": [
      "\u001b[1;31m---------------------------------------------------------------------------\u001b[0m",
      "\u001b[1;31mKeyboardInterrupt\u001b[0m                         Traceback (most recent call last)",
      "\u001b[1;32m<ipython-input-8-8550dd035e44>\u001b[0m in \u001b[0;36m<module>\u001b[1;34m()\u001b[0m\n\u001b[0;32m      2\u001b[0m \u001b[0mdt\u001b[0m \u001b[1;33m=\u001b[0m \u001b[1;36m10\u001b[0m \u001b[1;31m#timestep\u001b[0m\u001b[1;33m\u001b[0m\u001b[0m\n\u001b[0;32m      3\u001b[0m \u001b[1;32mwhile\u001b[0m \u001b[0mt\u001b[0m \u001b[1;33m<=\u001b[0m \u001b[1;36m1e50\u001b[0m\u001b[1;33m:\u001b[0m\u001b[1;33m\u001b[0m\u001b[0m\n\u001b[1;32m----> 4\u001b[1;33m     \u001b[0mrate\u001b[0m\u001b[1;33m(\u001b[0m\u001b[1;36m1000\u001b[0m\u001b[1;33m)\u001b[0m\u001b[1;33m\u001b[0m\u001b[0m\n\u001b[0m\u001b[0;32m      5\u001b[0m     \u001b[0mdist_b\u001b[0m \u001b[1;33m=\u001b[0m \u001b[0mmag\u001b[0m\u001b[1;33m(\u001b[0m\u001b[0mb\u001b[0m\u001b[1;33m.\u001b[0m\u001b[0mpos\u001b[0m\u001b[1;33m)\u001b[0m\u001b[1;33m\u001b[0m\u001b[0m\n\u001b[0;32m      6\u001b[0m     \u001b[0munvec_b\u001b[0m \u001b[1;33m=\u001b[0m \u001b[1;33m(\u001b[0m\u001b[0mb\u001b[0m\u001b[1;33m.\u001b[0m\u001b[0mpos\u001b[0m \u001b[1;33m-\u001b[0m \u001b[0mstar\u001b[0m\u001b[1;33m.\u001b[0m\u001b[0mpos\u001b[0m\u001b[1;33m)\u001b[0m\u001b[1;33m/\u001b[0m\u001b[0mdist_b\u001b[0m\u001b[1;33m\u001b[0m\u001b[0m\n",
      "\u001b[1;32m~\\Anaconda3\\lib\\site-packages\\vpython\\rate_control.py\u001b[0m in \u001b[0;36m__call__\u001b[1;34m(self, N)\u001b[0m\n\u001b[0;32m    258\u001b[0m         \u001b[0mself\u001b[0m\u001b[1;33m.\u001b[0m\u001b[0mrval\u001b[0m \u001b[1;33m=\u001b[0m \u001b[0mN\u001b[0m\u001b[1;33m\u001b[0m\u001b[0m\n\u001b[0;32m    259\u001b[0m         \u001b[1;32mif\u001b[0m \u001b[0mself\u001b[0m\u001b[1;33m.\u001b[0m\u001b[0mrval\u001b[0m \u001b[1;33m<\u001b[0m \u001b[1;36m1\u001b[0m\u001b[1;33m:\u001b[0m \u001b[1;32mraise\u001b[0m \u001b[0mValueError\u001b[0m\u001b[1;33m(\u001b[0m\u001b[1;34m\"rate value must be greater than or equal to 1\"\u001b[0m\u001b[1;33m)\u001b[0m\u001b[1;33m\u001b[0m\u001b[0m\n\u001b[1;32m--> 260\u001b[1;33m         \u001b[0msuper\u001b[0m\u001b[1;33m(\u001b[0m\u001b[0m_RateKeeper2\u001b[0m\u001b[1;33m,\u001b[0m \u001b[0mself\u001b[0m\u001b[1;33m)\u001b[0m\u001b[1;33m.\u001b[0m\u001b[0m__call__\u001b[0m\u001b[1;33m(\u001b[0m\u001b[0mself\u001b[0m\u001b[1;33m.\u001b[0m\u001b[0mrval\u001b[0m\u001b[1;33m)\u001b[0m \u001b[1;31m## calls __call__ in rate_control.py\u001b[0m\u001b[1;33m\u001b[0m\u001b[0m\n\u001b[0m\u001b[0;32m    261\u001b[0m \u001b[1;33m\u001b[0m\u001b[0m\n\u001b[0;32m    262\u001b[0m \u001b[1;33m\u001b[0m\u001b[0m\n",
      "\u001b[1;32m~\\Anaconda3\\lib\\site-packages\\vpython\\rate_control.py\u001b[0m in \u001b[0;36m__call__\u001b[1;34m(self, maxRate)\u001b[0m\n\u001b[0;32m    212\u001b[0m             \u001b[0mdt\u001b[0m \u001b[1;33m=\u001b[0m \u001b[0mself\u001b[0m\u001b[1;33m.\u001b[0m\u001b[0mlastSleep\u001b[0m \u001b[1;33m+\u001b[0m \u001b[0mself\u001b[0m\u001b[1;33m.\u001b[0m\u001b[0mcalls\u001b[0m\u001b[1;33m*\u001b[0m\u001b[1;33m(\u001b[0m\u001b[0mself\u001b[0m\u001b[1;33m.\u001b[0m\u001b[0muserTime\u001b[0m \u001b[1;33m+\u001b[0m \u001b[0mself\u001b[0m\u001b[1;33m.\u001b[0m\u001b[0mcallTime\u001b[0m \u001b[1;33m+\u001b[0m \u001b[0mself\u001b[0m\u001b[1;33m.\u001b[0m\u001b[0mdelay\u001b[0m\u001b[1;33m)\u001b[0m \u001b[1;33m+\u001b[0m\u001b[0;31m \u001b[0m\u001b[0;31m\\\u001b[0m\u001b[1;33m\u001b[0m\u001b[0m\n\u001b[0;32m    213\u001b[0m                  \u001b[0mrenders\u001b[0m\u001b[1;33m*\u001b[0m\u001b[0mself\u001b[0m\u001b[1;33m.\u001b[0m\u001b[0mrenderTime\u001b[0m \u001b[1;33m+\u001b[0m \u001b[0msleeps\u001b[0m\u001b[1;33m*\u001b[0m\u001b[0mself\u001b[0m\u001b[1;33m.\u001b[0m\u001b[0minteractionPeriod\u001b[0m \u001b[1;33m-\u001b[0m \u001b[0m_clock\u001b[0m\u001b[1;33m(\u001b[0m\u001b[1;33m)\u001b[0m\u001b[1;33m\u001b[0m\u001b[0m\n\u001b[1;32m--> 214\u001b[1;33m             \u001b[0m_sleep\u001b[0m\u001b[1;33m(\u001b[0m\u001b[0mdt\u001b[0m\u001b[1;33m)\u001b[0m\u001b[1;33m\u001b[0m\u001b[0m\n\u001b[0m\u001b[0;32m    215\u001b[0m             \u001b[0mself\u001b[0m\u001b[1;33m.\u001b[0m\u001b[0mlastSleep\u001b[0m \u001b[1;33m=\u001b[0m \u001b[0m_clock\u001b[0m\u001b[1;33m(\u001b[0m\u001b[1;33m)\u001b[0m\u001b[1;33m\u001b[0m\u001b[0m\n\u001b[0;32m    216\u001b[0m             \u001b[0mself\u001b[0m\u001b[1;33m.\u001b[0m\u001b[0mcalls\u001b[0m \u001b[1;33m=\u001b[0m \u001b[1;36m0\u001b[0m\u001b[1;33m\u001b[0m\u001b[0m\n",
      "\u001b[1;32m~\\Anaconda3\\lib\\site-packages\\vpython\\rate_control.py\u001b[0m in \u001b[0;36m_sleep\u001b[1;34m(dt)\u001b[0m\n\u001b[0;32m     54\u001b[0m         \u001b[0mdtsleep\u001b[0m \u001b[1;33m=\u001b[0m \u001b[0mnticks\u001b[0m\u001b[1;33m*\u001b[0m\u001b[0m_tick\u001b[0m\u001b[1;33m\u001b[0m\u001b[0m\n\u001b[0;32m     55\u001b[0m         \u001b[0mt\u001b[0m \u001b[1;33m=\u001b[0m \u001b[0m_clock\u001b[0m\u001b[1;33m(\u001b[0m\u001b[1;33m)\u001b[0m\u001b[1;33m\u001b[0m\u001b[0m\n\u001b[1;32m---> 56\u001b[1;33m         \u001b[0mtime\u001b[0m\u001b[1;33m.\u001b[0m\u001b[0msleep\u001b[0m\u001b[1;33m(\u001b[0m\u001b[0mdtsleep\u001b[0m\u001b[1;33m)\u001b[0m\u001b[1;33m\u001b[0m\u001b[0m\n\u001b[0m\u001b[0;32m     57\u001b[0m         \u001b[0mt\u001b[0m \u001b[1;33m=\u001b[0m \u001b[0m_clock\u001b[0m\u001b[1;33m(\u001b[0m\u001b[1;33m)\u001b[0m\u001b[1;33m-\u001b[0m\u001b[0mt\u001b[0m\u001b[1;33m\u001b[0m\u001b[0m\n\u001b[0;32m     58\u001b[0m         \u001b[0mdt\u001b[0m \u001b[1;33m-=\u001b[0m \u001b[0mt\u001b[0m\u001b[1;33m\u001b[0m\u001b[0m\n",
      "\u001b[1;31mKeyboardInterrupt\u001b[0m: "
     ]
    }
   ],
   "source": [
    "t = 0 #inital time \n",
    "dt = 10 #timestep\n",
    "while t <= 1e50:\n",
    "    rate(1000)\n",
    "    dist_b = mag(b.pos)                           \n",
    "    unvec_b = (b.pos - star.pos)/dist_b\n",
    "    fgrav_b_mag = -(G*(bmass*Mstar))/(dist_b**2)\n",
    "    fgrav_b = fgrav_b_mag * unvec_b\n",
    "    b.velocity = b.velocity + (np.divide(fgrav_b,bmass))*dt \n",
    "    b.pos = b.pos + b.velocity*dt \n",
    "    \n",
    "#    f1.plot(t,b.pos.y)\n",
    "    \n",
    "    dist_c = mag(c.pos)                           \n",
    "    unvec_c = (c.pos - star.pos)/dist_c\n",
    "    fgrav_c_mag = -(G*(cmass*Mstar))/(dist_c**2)\n",
    "    fgrav_c = fgrav_c_mag * unvec_c\n",
    "    c.velocity = c.velocity + (np.divide(fgrav_c,cmass))*dt \n",
    "    c.pos = c.pos + c.velocity*dt \n",
    "    \n",
    "#    f2.plot(t,c.pos.y)\n",
    "    \n",
    "    dist_d = mag(d.pos)\n",
    "    unvec_d = (d.pos - star.pos)/dist_d\n",
    "    fgrav_d_mag = -(G*(dmass*Mstar))/(dist_d**2)\n",
    "    fgrav_d = fgrav_d_mag * unvec_d \n",
    "    d.velocity = d.velocity + (np.divide(fgrav_d,dmass))*dt \n",
    "    d.pos = d.pos + d.velocity*dt \n",
    "    \n",
    "#    f3.plot(t,d.pos.y)\n",
    "    \n",
    "    dist_e = mag(e.pos)\n",
    "    unvec_e = (e.pos - star.pos)/dist_e\n",
    "    fgrav_e_mag = -(G*(emass*Mstar))/(dist_e**2)\n",
    "    fgrav_e = fgrav_e_mag*unvec_e\n",
    "    e.velocity = e.velocity + (np.divide(fgrav_e,emass))*dt \n",
    "    e.pos = e.pos + e.velocity*dt\n",
    "\n",
    "#    f4.plot(t,e.pos.y)\n",
    "    \n",
    "    mratio_b = bmass/Mstar\n",
    "    mratio_c = cmass/Mstar\n",
    "    mratio_d = dmass/Mstar\n",
    "    mratio_e = emass/Mstar\n",
    "    \n",
    "    star.pos.y = star.pos.y + (b.velocity.y*mratio_b + c.velocity.y*mratio_c + d.velocity.y*mratio_d + e.velocity.y*mratio_e)*dt\n",
    "    star.pos.x = star.pos.x + (b.velocity.x*mratio_b + c.velocity.x*mratio_c + d.velocity.x*mratio_d + e.velocity.x*mratio_e)*dt\n",
    "    star.pos.z = star.pos.z + (b.velocity.z*mratio_b + c.velocity.z*mratio_c + d.velocity.z*mratio_d + e.velocity.z*mratio_e)*dt\n",
    "    \n",
    "    #print(star.pos.y)\n",
    "    #plotting the y compnent of the velocity over time \n",
    "    f1.plot(t,b.velocity.y)\n",
    "    f2.plot(t,c.velocity.y)\n",
    "    f3.plot(t,d.velocity.y)\n",
    "    f4.plot(t,e.velocity.y)   \n",
    "#    f5.plot(t,star.pos)\n",
    "    f5.plot(t,star.pos.y)\n",
    "    \n",
    "    #plotting the magnitiudes of the gravitional force on the planets over time \n",
    "    t+=dt"
   ]
  },
  {
   "cell_type": "code",
   "execution_count": null,
   "metadata": {},
   "outputs": [],
   "source": []
  },
  {
   "cell_type": "code",
   "execution_count": null,
   "metadata": {},
   "outputs": [],
   "source": []
  }
 ],
 "metadata": {
  "kernelspec": {
   "display_name": "VPython",
   "language": "python",
   "name": "vpython"
  },
  "language_info": {
   "codemirror_mode": {
    "name": "ipython",
    "version": 3
   },
   "file_extension": ".py",
   "mimetype": "text/x-python",
   "name": "python",
   "nbconvert_exporter": "python",
   "pygments_lexer": "ipython3",
   "version": "3.6.5"
  }
 },
 "nbformat": 4,
 "nbformat_minor": 2
}
